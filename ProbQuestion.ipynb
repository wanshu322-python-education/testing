{
 "cells": [
  {
   "cell_type": "code",
   "execution_count": null,
   "id": "2a076407-be9e-4e73-a5a4-f431493a08a6",
   "metadata": {},
   "outputs": [],
   "source": [
    "import numpy as np\n",
    "import random\n",
    "\n",
    "def generate_random_YR_grid(yellow_count):\n",
    "    total_cells = 16\n",
    "    red_count = total_cells - yellow_count\n",
    "\n",
    "    # Create list of 'Y' and 'R' and shuffle\n",
    "    cells = ['Y'] * yellow_count + ['R'] * red_count\n",
    "    random.shuffle(cells)\n",
    "\n",
    "    # Convert to 4x4 numpy array\n",
    "    grid = np.array(cells).reshape(4, 4)\n",
    "    return grid\n",
    "\n",
    "# Example: generate a grid with 5 yellow cells and 11 red\n",
    "grid = generate_random_YR_grid(5)\n",
    "print(grid)\n"
   ]
  },
  {
   "cell_type": "code",
   "execution_count": null,
   "id": "2c61b77a-a2ac-49ee-a73c-02c20405cbfa",
   "metadata": {},
   "outputs": [],
   "source": [
    "\n",
    "\n",
    "while True:\n",
    "    \n",
    "    user_input_num = int(input(\"Please enter the number of yellow cells: \")\n",
    "\n",
    "    generate_color_tables(user_input_num)"
   ]
  },
  {
   "cell_type": "markdown",
   "id": "ec1c07fc-1667-4a08-8aad-04b29ba665c1",
   "metadata": {},
   "source": [
    "# section 1\n",
    "## section 1-1\n",
    "\n"
   ]
  },
  {
   "cell_type": "code",
   "execution_count": null,
   "id": "5e7d161a-cecd-452d-a306-3e99c6888ded",
   "metadata": {},
   "outputs": [],
   "source": []
  },
  {
   "cell_type": "code",
   "execution_count": 1,
   "id": "0599d119-8cca-428f-a476-30ebee229204",
   "metadata": {},
   "outputs": [],
   "source": [
    "x = 1"
   ]
  },
  {
   "cell_type": "code",
   "execution_count": 2,
   "id": "72305810-240d-480a-8589-fb744ec346c5",
   "metadata": {},
   "outputs": [
    {
     "name": "stdout",
     "output_type": "stream",
     "text": [
      "1\n"
     ]
    }
   ],
   "source": [
    "print(x) "
   ]
  },
  {
   "cell_type": "code",
   "execution_count": null,
   "id": "5cbfc63f-6191-43d8-a969-016d3facab93",
   "metadata": {},
   "outputs": [],
   "source": []
  },
  {
   "cell_type": "code",
   "execution_count": null,
   "id": "357cbbef-34e2-473c-9b1b-515ed2b2c05c",
   "metadata": {},
   "outputs": [],
   "source": [
    "x = 2"
   ]
  },
  {
   "cell_type": "code",
   "execution_count": null,
   "id": "c5899abf-5a36-4c5d-8fbc-30398adf8181",
   "metadata": {},
   "outputs": [],
   "source": []
  },
  {
   "cell_type": "markdown",
   "id": "7d10912f-2551-4be1-a7cb-6245daffa2fa",
   "metadata": {},
   "source": [
    "this is a sentence . ."
   ]
  },
  {
   "cell_type": "code",
   "execution_count": null,
   "id": "737af6b5-cf2f-42bc-a8ca-d960b10195bf",
   "metadata": {},
   "outputs": [],
   "source": []
  },
  {
   "cell_type": "code",
   "execution_count": null,
   "id": "a6bb4b1d-4c78-4532-89b0-01815e13d129",
   "metadata": {},
   "outputs": [],
   "source": []
  },
  {
   "cell_type": "code",
   "execution_count": null,
   "id": "9f265932-97bc-4fc7-8bb1-9eb46a5805ee",
   "metadata": {},
   "outputs": [],
   "source": []
  },
  {
   "cell_type": "code",
   "execution_count": null,
   "id": "ca25ed04-b5af-4bb6-869d-f6a0628ae97e",
   "metadata": {},
   "outputs": [],
   "source": []
  }
 ],
 "metadata": {
  "kernelspec": {
   "display_name": "Python 3 (ipykernel)",
   "language": "python",
   "name": "python3"
  },
  "language_info": {
   "codemirror_mode": {
    "name": "ipython",
    "version": 3
   },
   "file_extension": ".py",
   "mimetype": "text/x-python",
   "name": "python",
   "nbconvert_exporter": "python",
   "pygments_lexer": "ipython3",
   "version": "3.13.2"
  }
 },
 "nbformat": 4,
 "nbformat_minor": 5
}
