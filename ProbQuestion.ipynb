{
 "cells": [
  {
   "cell_type": "code",
   "execution_count": 1,
   "id": "2a076407-be9e-4e73-a5a4-f431493a08a6",
   "metadata": {},
   "outputs": [
    {
     "name": "stdout",
     "output_type": "stream",
     "text": [
      "[['R' 'R' 'Y' 'Y']\n",
      " ['R' 'R' 'R' 'R']\n",
      " ['Y' 'R' 'R' 'R']\n",
      " ['Y' 'R' 'R' 'Y']]\n"
     ]
    }
   ],
   "source": [
    "import numpy as np\n",
    "import random\n",
    "\n",
    "def generate_random_YR_grid(yellow_count):\n",
    "    total_cells = 16\n",
    "    red_count = total_cells - yellow_count\n",
    "\n",
    "    # Create list of 'Y' and 'R' and shuffle\n",
    "    cells = ['Y'] * yellow_count + ['R'] * red_count\n",
    "    random.shuffle(cells)\n",
    "\n",
    "    # Convert to 4x4 numpy array\n",
    "    grid = np.array(cells).reshape(4, 4)\n",
    "    return grid\n",
    "\n",
    "# Example: generate a grid with 5 yellow cells and 11 red\n",
    "grid = generate_random_YR_grid(5)\n",
    "print(grid)\n"
   ]
  },
  {
   "cell_type": "code",
   "execution_count": null,
   "id": "2c61b77a-a2ac-49ee-a73c-02c20405cbfa",
   "metadata": {},
   "outputs": [],
   "source": [
    "\n",
    "\n",
    "while True:\n",
    "    \n",
    "    user_input_num = int(input(\"Please enter the number of yellow cells: \")\n",
    "\n",
    "    generate_color_tables(user_input_num)"
   ]
  },
  {
   "cell_type": "code",
   "execution_count": null,
   "id": "ca25ed04-b5af-4bb6-869d-f6a0628ae97e",
   "metadata": {},
   "outputs": [],
   "source": []
  }
 ],
 "metadata": {
  "kernelspec": {
   "display_name": "Python 3 (ipykernel)",
   "language": "python",
   "name": "python3"
  },
  "language_info": {
   "codemirror_mode": {
    "name": "ipython",
    "version": 3
   },
   "file_extension": ".py",
   "mimetype": "text/x-python",
   "name": "python",
   "nbconvert_exporter": "python",
   "pygments_lexer": "ipython3",
   "version": "3.13.2"
  }
 },
 "nbformat": 4,
 "nbformat_minor": 5
}
